{
  "nbformat": 4,
  "nbformat_minor": 0,
  "metadata": {
    "colab": {
      "provenance": []
    },
    "kernelspec": {
      "name": "python3",
      "display_name": "Python 3"
    },
    "language_info": {
      "name": "python"
    }
  },
  "cells": [
    {
      "cell_type": "code",
      "execution_count": null,
      "metadata": {
        "colab": {
          "base_uri": "https://localhost:8080/",
          "height": 141
        },
        "id": "fooBKl8FmcO4",
        "outputId": "2c2d67e8-e943-4afd-d46b-1b04919f4960"
      },
      "outputs": [
        {
          "output_type": "error",
          "ename": "NameError",
          "evalue": "name 'prit' is not defined",
          "traceback": [
            "\u001b[0;31m---------------------------------------------------------------------------\u001b[0m",
            "\u001b[0;31mNameError\u001b[0m                                 Traceback (most recent call last)",
            "\u001b[0;32m<ipython-input-3-db6dda56cc4d>\u001b[0m in \u001b[0;36m<cell line: 0>\u001b[0;34m()\u001b[0m\n\u001b[0;32m----> 1\u001b[0;31m \u001b[0mprit\u001b[0m\u001b[0;34m(\u001b[0m\u001b[0;34m\"welcome to Python world\"\u001b[0m\u001b[0;34m)\u001b[0m\u001b[0;34m\u001b[0m\u001b[0;34m\u001b[0m\u001b[0m\n\u001b[0m",
            "\u001b[0;31mNameError\u001b[0m: name 'prit' is not defined"
          ]
        }
      ],
      "source": [
        "prit(\"welcome to Python world\")"
      ]
    },
    {
      "cell_type": "code",
      "source": [
        "a=\"python is fun!\"\n",
        "print(a[-1:-7:-2])\n",
        "b=\"python is fun!\"\n",
        "print(b[-1:-25:-1])\n"
      ],
      "metadata": {
        "colab": {
          "base_uri": "https://localhost:8080/"
        },
        "id": "456iibnZml4b",
        "outputId": "9f027d9e-e829-4627-ad74-969e6771bde1"
      },
      "execution_count": 6,
      "outputs": [
        {
          "output_type": "stream",
          "name": "stdout",
          "text": [
            "!u \n",
            "!nuf si nohtyp\n"
          ]
        }
      ]
    },
    {
      "cell_type": "code",
      "source": [
        "#Day3\n",
        "\n",
        "if 1>5:\n",
        "  print(\"10 greater than 5\")\n",
        "  print(\"if block\")\n",
        "print(\"outside if\")"
      ],
      "metadata": {
        "colab": {
          "base_uri": "https://localhost:8080/"
        },
        "id": "BEXzKUQwnKtJ",
        "outputId": "baa3daa5-0467-48be-949c-3fb7ebc1282b"
      },
      "execution_count": 9,
      "outputs": [
        {
          "output_type": "stream",
          "name": "stdout",
          "text": [
            "outside if\n"
          ]
        }
      ]
    },
    {
      "cell_type": "code",
      "source": [
        "#input\n",
        "\n",
        "a= int(input(\"enter 1st num\"))\n",
        "b=  int(input(\"enter 2nd num\"))\n",
        "print(a+b)"
      ],
      "metadata": {
        "colab": {
          "base_uri": "https://localhost:8080/"
        },
        "id": "8JAKsWuJplm1",
        "outputId": "4bc91e9d-8f94-4e9a-ecd7-0203437c417d"
      },
      "execution_count": 11,
      "outputs": [
        {
          "output_type": "stream",
          "name": "stdout",
          "text": [
            "enter 1st num11\n",
            "enter 2nd num5\n",
            "16\n"
          ]
        }
      ]
    },
    {
      "cell_type": "code",
      "source": [
        "#elseif\n",
        "\n",
        "a=int(input(\"enter age\"))\n",
        "if a>20 and a<30:\n",
        "  print(\"you can vote\")\n",
        "elif a<=20:\n",
        "  print(\" you cant vote\")\n",
        "elif a>30 and a<40:\n",
        "  print(\"you are adult\")\n",
        "print(\"closed\")"
      ],
      "metadata": {
        "id": "hBQjLr8xvg84",
        "outputId": "f5364b7b-67b2-437f-a040-a85da2c7808a",
        "colab": {
          "base_uri": "https://localhost:8080/"
        }
      },
      "execution_count": 17,
      "outputs": [
        {
          "output_type": "stream",
          "name": "stdout",
          "text": [
            "enter age45\n",
            "closed\n"
          ]
        }
      ]
    },
    {
      "cell_type": "code",
      "source": [
        "#table\n",
        "a=int(input(\"enter number\"))\n",
        "i=1\n",
        "while i<=10:\n",
        "  print(a*i)\n",
        "  i=i+1\n",
        "\n",
        "for i in (\"ntt data\"):\n",
        "  print(i)\n"
      ],
      "metadata": {
        "id": "W53ceVg42v7X",
        "outputId": "78a3a768-9f39-48f7-edc9-90161340ca20",
        "colab": {
          "base_uri": "https://localhost:8080/"
        }
      },
      "execution_count": 22,
      "outputs": [
        {
          "output_type": "stream",
          "name": "stdout",
          "text": [
            "enter number2\n",
            "2\n",
            "4\n",
            "6\n",
            "8\n",
            "10\n",
            "12\n",
            "14\n",
            "16\n",
            "18\n",
            "20\n",
            "n\n",
            "t\n",
            "t\n",
            " \n",
            "d\n",
            "a\n",
            "t\n",
            "a\n"
          ]
        }
      ]
    },
    {
      "cell_type": "code",
      "source": [
        "a=input(\"enter data\")\n",
        "v=['a','e','i','o','u']\n",
        "counter=0\n",
        "for i in a:\n",
        "  if i in v:\n",
        "    counter=counter+1\n",
        "print(counter);"
      ],
      "metadata": {
        "id": "n2KOOV0A65hj",
        "outputId": "66e70c52-6383-4dee-f3cd-c75aeb4299af",
        "colab": {
          "base_uri": "https://localhost:8080/"
        }
      },
      "execution_count": 24,
      "outputs": [
        {
          "output_type": "stream",
          "name": "stdout",
          "text": [
            "enter datadaataaa\n",
            "5\n"
          ]
        }
      ]
    },
    {
      "cell_type": "code",
      "source": [
        "#reverse\n",
        "\n",
        "a=input(\"enter str\")\n",
        "b=a[-1::-1]\n",
        "print(\"reverse is \"+b)\n",
        "if a==b:\n",
        "  print(\"entered str \"+a+\" is a pallindrome\")\n",
        "else:\n",
        "   print(\"entered str \"+a+\" is not pallindrome\")\n"
      ],
      "metadata": {
        "id": "ZRvWsUt98WDh"
      },
      "execution_count": null,
      "outputs": []
    }
  ]
}